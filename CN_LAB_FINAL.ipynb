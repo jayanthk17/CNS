{
  "nbformat": 4,
  "nbformat_minor": 0,
  "metadata": {
    "colab": {
      "provenance": [],
      "authorship_tag": "ABX9TyP5KPAQTm3p1IzFvh5LRX0E",
      "include_colab_link": true
    },
    "kernelspec": {
      "name": "python3",
      "display_name": "Python 3"
    },
    "language_info": {
      "name": "python"
    }
  },
  "cells": [
    {
      "cell_type": "markdown",
      "metadata": {
        "id": "view-in-github",
        "colab_type": "text"
      },
      "source": [
        "<a href=\"https://colab.research.google.com/github/jayanthk17/CNS/blob/main/CN_LAB_FINAL.ipynb\" target=\"_parent\"><img src=\"https://colab.research.google.com/assets/colab-badge.svg\" alt=\"Open In Colab\"/></a>"
      ]
    },
    {
      "cell_type": "markdown",
      "source": [
        "1) a) Caesar Cipher"
      ],
      "metadata": {
        "id": "9e5U7GugTBtd"
      }
    },
    {
      "cell_type": "code",
      "source": [
        "def caesar_cipher(text, shift, decrypt=False):\n",
        "    shifted_text = \"\"\n",
        "    for char in text:\n",
        "        if char.isalpha():  # Check if character is a letter\n",
        "            if decrypt:\n",
        "                shifted = ord(char) - shift\n",
        "            else:\n",
        "                shifted = ord(char) + shift\n",
        "\n",
        "            if char.islower():\n",
        "                base = ord('a')\n",
        "            else:\n",
        "                base = ord('A')\n",
        "\n",
        "            shifted = (shifted - base) % 26 + base\n",
        "            shifted_text += chr(shifted)\n",
        "        else:\n",
        "            shifted_text += char  # Non-alphabetical characters remain unchanged\n",
        "    return shifted_text\n",
        "\n",
        "# Example usage:\n",
        "plaintext = input(\"enter the message:\")\n",
        "shift = int(input(\"enter key:\"))\n",
        "\n",
        "# Encrypting the plaintext\n",
        "encrypted_text = caesar_cipher(plaintext, shift)\n",
        "print(\"Original:\", plaintext)\n",
        "print(\"Encrypted:\", encrypted_text)\n",
        "\n",
        "# Decrypting the encrypted text\n",
        "decrypted_text = caesar_cipher(encrypted_text, shift, decrypt=True)\n",
        "print(\"Decrypted:\", decrypted_text)"
      ],
      "metadata": {
        "colab": {
          "base_uri": "https://localhost:8080/"
        },
        "id": "fC4HfIkNS3de",
        "outputId": "09057703-6405-4be4-977c-b951240e2ac3"
      },
      "execution_count": null,
      "outputs": [
        {
          "output_type": "stream",
          "name": "stdout",
          "text": [
            "enter the message:cryptography\n",
            "enter key:4\n",
            "Original: cryptography\n",
            "Encrypted: gvctxskvetlc\n",
            "Decrypted: cryptography\n"
          ]
        }
      ]
    },
    {
      "cell_type": "markdown",
      "source": [
        "1) b) Polyalphabetic Cipher"
      ],
      "metadata": {
        "id": "7NUC_bkLTNrl"
      }
    },
    {
      "cell_type": "code",
      "source": [
        "def polyalphabetic_cipher(text, key, mode='encrypt'):\n",
        "    key = key.upper()\n",
        "    text = ''.join(filter(str.isalpha, text.upper()))\n",
        "    return ''.join(\n",
        "        chr((ord(c) - ord('A') + (1 if mode == 'encrypt' else -1) * (ord(key[i % len(key)]) - ord('A'))) % 26 + ord('A'))\n",
        "        for i, c in enumerate(text)\n",
        "    )\\\n",
        "\n",
        "text = input(\"Enter the message: \")\n",
        "key = input(\"Enter the keyword: \")\n",
        "mode = input(\"Enter the mode (encrypt or decrypt): \")\n",
        "\n",
        "result = polyalphabetic_cipher(text, key, mode)\n",
        "print(f\"{'Encrypted' if mode == 'encrypt' else 'Decrypted'} Text: {result}\")"
      ],
      "metadata": {
        "colab": {
          "base_uri": "https://localhost:8080/"
        },
        "id": "k1DGCLxPS9SV",
        "outputId": "b03810c3-2d40-49ee-aaee-ed98a3a1aedf"
      },
      "execution_count": null,
      "outputs": [
        {
          "output_type": "stream",
          "name": "stdout",
          "text": [
            "Enter the message: network\n",
            "Enter the keyword: attack\n",
            "Enter the mode (encrypt or decrypt): encrypt\n",
            "Encrypted Text: NXMWQBK\n"
          ]
        }
      ]
    },
    {
      "cell_type": "markdown",
      "source": [
        "2) Affine Cipher"
      ],
      "metadata": {
        "id": "Eq5fLz_6TXGO"
      }
    },
    {
      "cell_type": "code",
      "source": [
        "def affine_encrypt(text, a, b):\n",
        "    return ''.join([chr(((a * (ord(char) - ord('A')) + b) % 26) + ord('A'))\n",
        "                    if char.isupper()\n",
        "                    else chr(((a * (ord(char) - ord('a')) + b) % 26) + ord('a'))\n",
        "                    if char.islower()\n",
        "                    else char\n",
        "                    for char in text])\n",
        "\n",
        "def affine_decrypt(text, a, b):\n",
        "    return ''.join([chr(((pow(a, -1, 26) * ((ord(char) - ord('A')) - b)) % 26) + ord('A'))\n",
        "                    if char.isupper()\n",
        "                    else chr(((pow(a, -1, 26) * ((ord(char) - ord('a')) - b)) % 26) + ord('a'))\n",
        "                    if char.islower()\n",
        "                    else char\n",
        "                    for char in text])\n",
        "\n",
        "# Main Functionality\n",
        "if __name__ == \"__main__\":\n",
        "    text = input(\"Enter the message for Affine Cipher: \")\n",
        "    a = int(input(\"Enter the value of a (must be coprime with 26): \"))\n",
        "    b = int(input(\"Enter the value of b: \"))\n",
        "\n",
        "    encrypted_text = affine_encrypt(text, a, b)\n",
        "    print(\"Encrypted Text:\", encrypted_text)\n",
        "\n",
        "    decrypted_text = affine_decrypt(encrypted_text, a, b)\n",
        "    print(\"Decrypted Text:\", decrypted_text)"
      ],
      "metadata": {
        "colab": {
          "base_uri": "https://localhost:8080/"
        },
        "id": "9orOoZ3uS900",
        "outputId": "29ebc949-212f-4c26-a209-801fc805234a"
      },
      "execution_count": null,
      "outputs": [
        {
          "output_type": "stream",
          "name": "stdout",
          "text": [
            "Enter the message for Affine Cipher: hello\n",
            "Enter the value of a (must be coprime with 26): 7\n",
            "Enter the value of b: 3\n",
            "Encrypted Text: afccx\n",
            "Decrypted Text: hello\n"
          ]
        }
      ]
    },
    {
      "cell_type": "markdown",
      "source": [
        "3) Playfair Cipher"
      ],
      "metadata": {
        "id": "CnGUPk5DTpAW"
      }
    },
    {
      "cell_type": "code",
      "source": [
        "def playfair_cipher(text, key, mode='encrypt'):\n",
        "    key_matrix = [''.join(dict.fromkeys(key.upper().replace('J', 'I') + 'ABCDEFGHIKLMNOPQRSTUVWXYZ'))[i:i+5] for i in range(0, 25, 5)]\n",
        "    text = ''.join(filter(str.isalpha, text.upper().replace('J', 'I')))\n",
        "    if len(text) % 2 != 0: text += 'X'\n",
        "\n",
        "    def find_coordinates(char):\n",
        "        for row in key_matrix:\n",
        "            if char in row: return key_matrix.index(row), row.index(char)\n",
        "\n",
        "    def process_pair(c1, c2, mode):\n",
        "        if c1[0] == c2[0]:\n",
        "            return (c1[0], (c1[1] + mode) % 5), (c2[0], (c2[1] + mode) % 5)\n",
        "        elif c1[1] == c2[1]:\n",
        "            return ((c1[0] + mode) % 5, c1[1]), ((c2[0] + mode) % 5, c2[1])\n",
        "        else:\n",
        "            return (c1[0], c2[1]), (c2[0], c1[1])\n",
        "\n",
        "    result = ''\n",
        "    for i in range(0, len(text), 2):\n",
        "        c1, c2 = find_coordinates(text[i]), find_coordinates(text[i + 1])\n",
        "        c1, c2 = process_pair(c1, c2, 1 if mode == 'encrypt' else -1)\n",
        "        result += key_matrix[c1[0]][c1[1]] + key_matrix[c2[0]][c2[1]]\n",
        "\n",
        "    return result\n",
        "\n",
        "text = input(\"Enter the message: \")\n",
        "key = input(\"Enter the keyword: \")\n",
        "mode = input(\"Enter the mode (encrypt or decrypt): \")\n",
        "\n",
        "result = playfair_cipher(text, key, mode)\n",
        "print(f\"{'Encrypted' if mode == 'encrypt' else 'Decrypted'} Text: {result}\")"
      ],
      "metadata": {
        "colab": {
          "base_uri": "https://localhost:8080/"
        },
        "id": "Nfh6LjbOS-Qm",
        "outputId": "decbf1bc-8eb7-4ba8-be5f-0450fb73d83e"
      },
      "execution_count": null,
      "outputs": [
        {
          "output_type": "stream",
          "name": "stdout",
          "text": [
            "Enter the message: CFNNLZ\n",
            "Enter the keyword: msg\n",
            "Enter the mode (encrypt or decrypt): decrypt\n",
            "Decrypted Text: HELLOX\n"
          ]
        }
      ]
    },
    {
      "cell_type": "markdown",
      "source": [
        "4) Additive_Cipher"
      ],
      "metadata": {
        "id": "Z9jdW9sPT66t"
      }
    },
    {
      "cell_type": "code",
      "source": [
        "# Function to encrypt the plaintext using Additive Cipher\n",
        "def additive_encrypt(text, key):\n",
        "    result = \"\"\n",
        "    for char in text:\n",
        "        if char.isalpha():\n",
        "            shift = ord(char) + key\n",
        "            if char.islower():\n",
        "                result += chr((shift - ord('a')) % 26 + ord('a'))\n",
        "            elif char.isupper():\n",
        "                result += chr((shift - ord('A')) % 26 + ord('A'))\n",
        "        else:\n",
        "            result += char  # Non-alphabet characters remain unchanged\n",
        "    return result\n",
        "\n",
        "# Function to decrypt the ciphertext using Additive Cipher\n",
        "def additive_decrypt(text, key):\n",
        "    result = \"\"\n",
        "    for char in text:\n",
        "        if char.isalpha():\n",
        "            shift = ord(char) - key\n",
        "            if char.islower():\n",
        "                result += chr((shift - ord('a')) % 26 + ord('a'))\n",
        "            elif char.isupper():\n",
        "                result += chr((shift - ord('A')) % 26 + ord('A'))\n",
        "        else:\n",
        "            result += char  # Non-alphabet characters remain unchanged\n",
        "    return result\n",
        "\n",
        "# Main program\n",
        "if __name__ == \"__main__\":\n",
        "    text = input(\"Enter the message: \")\n",
        "    key = int(input(\"Enter the key (shift value): \"))\n",
        "\n",
        "    # Encrypt the text\n",
        "    encrypted_text = additive_encrypt(text, key)\n",
        "    print(\"Encrypted Text:\", encrypted_text)\n",
        "\n",
        "    # Decrypt the text\n",
        "    decrypted_text = additive_decrypt(encrypted_text, key)\n",
        "    print(\"Decrypted Text:\", decrypted_text)\n"
      ],
      "metadata": {
        "colab": {
          "base_uri": "https://localhost:8080/"
        },
        "id": "scAtWjFUS-58",
        "outputId": "308dea41-8939-425a-fa31-8284c5c08dbd"
      },
      "execution_count": null,
      "outputs": [
        {
          "output_type": "stream",
          "name": "stdout",
          "text": [
            "Enter the message: HELLO\n",
            "Enter the key (shift value): 4\n",
            "Encrypted Text: LIPPS\n",
            "Decrypted Text: HELLO\n"
          ]
        }
      ]
    },
    {
      "cell_type": "markdown",
      "source": [
        "5) Autokey Cipher"
      ],
      "metadata": {
        "id": "QzApjYXcUKT-"
      }
    },
    {
      "cell_type": "code",
      "source": [
        "def autokey_cipher(plaintext, key, mode='encrypt'):\n",
        "    key = key.upper()\n",
        "    plaintext = plaintext.upper()\n",
        "    result = \"\"\n",
        "\n",
        "    if mode == 'encrypt':\n",
        "        for i in range(len(plaintext)):\n",
        "            if plaintext[i].isalpha():\n",
        "                key_char = key[i % len(key)]\n",
        "                shift = ord(key_char) - ord('A')\n",
        "                encrypted_char = chr(((ord(plaintext[i]) + shift - ord('A')) % 26) + ord('A'))\n",
        "                result += encrypted_char\n",
        "            else:\n",
        "                result += plaintext[i]\n",
        "    elif mode == 'decrypt':\n",
        "        for i in range(len(plaintext)):\n",
        "            if plaintext[i].isalpha():\n",
        "                key_char = key[i % len(key)]\n",
        "                shift = ord(key_char) - ord('A')\n",
        "                decrypted_char = chr(((ord(plaintext[i]) - shift - ord('A')) % 26) + ord('A'))\n",
        "                result += decrypted_char\n",
        "            else:\n",
        "                result += plaintext[i]\n",
        "\n",
        "    return result\n",
        "\n",
        "# Example usage:\n",
        "plaintext = input(\"Enter the message: \")\n",
        "key = input(\"Enter the key: \")\n",
        "mode = input(\"Enter the mode (encrypt or decrypt): \")\n",
        "\n",
        "result = autokey_cipher(plaintext, key, mode)\n",
        "print(f\"{'Encrypted' if mode == 'encrypt' else 'Decrypted'} Text: {result}\")\n"
      ],
      "metadata": {
        "colab": {
          "base_uri": "https://localhost:8080/"
        },
        "id": "Sd1fl9-uUFMe",
        "outputId": "c3fed914-4ba9-4233-a197-9fef72ebd0aa"
      },
      "execution_count": null,
      "outputs": [
        {
          "output_type": "stream",
          "name": "stdout",
          "text": [
            "Enter the message: helloworld\n",
            "Enter the key: msg\n",
            "Enter the mode (encrypt or decrypt): encrypt\n",
            "Encrypted Text: TWRXGCAJRP\n"
          ]
        }
      ]
    },
    {
      "cell_type": "markdown",
      "source": [
        "6) Hill Cipher"
      ],
      "metadata": {
        "id": "Dat36Ed4U3o2"
      }
    },
    {
      "cell_type": "code",
      "source": [
        "import numpy as np\n",
        "\n",
        "def mod_inverse(matrix, modulus):\n",
        "    det = int(np.round(np.linalg.det(matrix)))\n",
        "    det_inv = pow(det, -1, modulus)\n",
        "    return (det_inv * np.round(det * np.linalg.inv(matrix)).astype(int)) % modulus\n",
        "\n",
        "def hill_cipher(text, key, mode='encrypt'):\n",
        "    text = ''.join(filter(str.isalpha, text.upper()))\n",
        "    key_size = len(key)\n",
        "\n",
        "    # Pad text if necessary\n",
        "    if len(text) % key_size != 0:\n",
        "        text += 'X' * (key_size - len(text) % key_size)\n",
        "\n",
        "    key_matrix = np.array(key)\n",
        "    text_matrix = np.array([[ord(char) - ord('A') for char in text[i:i + key_size]]\n",
        "                            for i in range(0, len(text), key_size)])\n",
        "\n",
        "    if mode == 'encrypt':\n",
        "        result = np.dot(text_matrix, key_matrix) % 26\n",
        "    elif mode == 'decrypt':\n",
        "        key_matrix = mod_inverse(key_matrix, 26)\n",
        "        result = np.dot(text_matrix, key_matrix) % 26\n",
        "    else:\n",
        "        raise ValueError(\"Invalid mode. Choose 'encrypt' or 'decrypt'.\")\n",
        "\n",
        "    return ''.join(chr(num + ord('A')) for row in result for num in row)\n",
        "\n",
        "# Main program\n",
        "text = input(\"Enter the message: \").replace(\" \", \"\").upper()\n",
        "key_size = int(input(\"Enter the size of the key matrix (e.g., 2 for 2x2, 3 for 3x3): \"))\n",
        "key = [list(map(int, input(f\"Enter row {i + 1} of the key matrix (space-separated): \").split())) for i in range(key_size)]\n",
        "mode = input(\"Enter the mode (encrypt or decrypt): \")\n",
        "\n",
        "print(\"Result:\", hill_cipher(text, key, mode))\n"
      ],
      "metadata": {
        "colab": {
          "base_uri": "https://localhost:8080/"
        },
        "id": "nbAcLdsIUJGu",
        "outputId": "05e605a5-bbf7-4089-d67b-2faba992c242"
      },
      "execution_count": null,
      "outputs": [
        {
          "output_type": "stream",
          "name": "stdout",
          "text": [
            "Enter the message: paymoremoney\n",
            "Enter the size of the key matrix (e.g., 2 for 2x2, 3 for 3x3): 3\n",
            "Enter row 1 of the key matrix (space-separated): 17 17 5\n",
            "Enter row 2 of the key matrix (space-separated): 21 18 21\n",
            "Enter row 3 of the key matrix (space-separated): 2 2 19\n",
            "Enter the mode (encrypt or decrypt): encrypt\n",
            "Result: RRLMWBKASPDH\n"
          ]
        }
      ]
    },
    {
      "cell_type": "markdown",
      "source": [
        "7) RSA"
      ],
      "metadata": {
        "id": "PGkTqPpKWiDt"
      }
    },
    {
      "cell_type": "code",
      "source": [
        "from math import gcd\n",
        "\n",
        "def RSA(p: int, q: int, message: int):\n",
        "    n = p * q\n",
        "    t = (p - 1) * (q - 1)\n",
        "\n",
        "    # Find the public exponent e\n",
        "    for i in range(2, t):\n",
        "        if gcd(i, t) == 1:\n",
        "            e = i\n",
        "            break\n",
        "\n",
        "    # Find the private exponent d\n",
        "    j = 0\n",
        "    while True:\n",
        "        if (j * e) % t == 1:\n",
        "            d = j\n",
        "            break\n",
        "        j += 1\n",
        "\n",
        "    # Perform encryption\n",
        "    ct = (message ** e) % n\n",
        "    print(f\"Encrypted message is {ct}\")\n",
        "\n",
        "    # Perform decryption\n",
        "    mes = (ct ** d) % n\n",
        "    print(f\"Decrypted message is {mes}\")\n",
        "\n",
        "# User input\n",
        "p = int(input(\"Enter the first prime number (p): \"))\n",
        "q = int(input(\"Enter the second prime number (q): \"))\n",
        "message = int(input(\"Enter the message to encrypt (as an integer): \"))\n",
        "\n",
        "# Perform RSA encryption and decryption\n",
        "RSA(p, q, message)"
      ],
      "metadata": {
        "colab": {
          "base_uri": "https://localhost:8080/"
        },
        "id": "RfbGx3j6S_bn",
        "outputId": "eeeedd36-4126-4530-8a5d-091fdacced14"
      },
      "execution_count": null,
      "outputs": [
        {
          "output_type": "stream",
          "name": "stdout",
          "text": [
            "Enter the first prime number (p): 7\n",
            "Enter the second prime number (q): 11\n",
            "Enter the message to encrypt (as an integer): 5\n",
            "Encrypted message is 47\n",
            "Decrypted message is 5\n"
          ]
        }
      ]
    },
    {
      "cell_type": "markdown",
      "source": [
        "8) Digital Signature Standard"
      ],
      "metadata": {
        "id": "knxapZZ9Wq52"
      }
    },
    {
      "cell_type": "code",
      "source": [
        "from cryptography.hazmat.backends import default_backend\n",
        "from cryptography.hazmat.primitives import hashes\n",
        "from cryptography.hazmat.primitives.asymmetric import dsa\n",
        "from cryptography.hazmat.primitives import serialization\n",
        "\n",
        "def generate_dsa_key_pair():\n",
        "    private_key = dsa.generate_private_key(key_size=1024, backend=default_backend())\n",
        "    public_key = private_key.public_key()\n",
        "    return private_key, public_key\n",
        "\n",
        "def sign_message(private_key, message):\n",
        "    # Encode the message string to bytes before signing\n",
        "    signature = private_key.sign(message.encode('utf-8'), hashes.SHA256())\n",
        "    return signature\n",
        "\n",
        "def verify_signature(public_key, message, signature):\n",
        "    try:\n",
        "        # Encode the message string to bytes before verification\n",
        "        public_key.verify(signature, message.encode('utf-8'), hashes.SHA256())\n",
        "        return True\n",
        "    except:\n",
        "        return False\n",
        "\n",
        "if __name__ == \"__main__\":\n",
        "    private_key, public_key = generate_dsa_key_pair()\n",
        "    message = input(\"enter the message: \")\n",
        "\n",
        "    signature = sign_message(private_key, message)\n",
        "    is_valid_signature = verify_signature(public_key, message, signature)\n",
        "\n",
        "    print(\"Original Message:\", message)\n",
        "    print(\"Signature:\", signature.hex())\n",
        "    print(\"Is Valid Signature:\", is_valid_signature)"
      ],
      "metadata": {
        "colab": {
          "base_uri": "https://localhost:8080/"
        },
        "id": "Oj5BD1Q3S_8s",
        "outputId": "f8176a9c-a82b-4800-c9f0-2d3061282ed5"
      },
      "execution_count": null,
      "outputs": [
        {
          "output_type": "stream",
          "name": "stdout",
          "text": [
            "enter the message: hi\n",
            "Original Message: hi\n",
            "Signature: 302e021500a536528a7e443df5e3220b48bb44a334acf9ea7d02150097ffe6712a543564d0158f0cac46581cb22a5cc9\n",
            "Is Valid Signature: True\n"
          ]
        }
      ]
    },
    {
      "cell_type": "markdown",
      "source": [
        "9) DES"
      ],
      "metadata": {
        "id": "nVvvyBBTW-__"
      }
    },
    {
      "cell_type": "code",
      "source": [
        "#Prgm-9 simplified DES to make a study of ids(for ex. snort).\n",
        "def feistel_round(block, key):\n",
        "    left, right = block[:4], block[4:]\n",
        "    f_result = int(left, 2) ^ int(key, 2)  # XOR operation as a simple \"substitution\"\n",
        "    f_result = bin(f_result)[2:].zfill(4)   # Convert to binary and pad to 4 bits\n",
        "    new_right = bin(int(right, 2) ^ int(f_result, 2))[2:].zfill(4)  # XOR with right part\n",
        "    return right + new_right\n",
        "\n",
        "def simplified_des_encrypt(plaintext, rounds, key):\n",
        "    block_size = 8\n",
        "    while len(plaintext) % block_size != 0:\n",
        "        plaintext += \"0\"  # Padding with zeros if necessary\n",
        "\n",
        "    ciphertext = \"\"\n",
        "    for i in range(0, len(plaintext), block_size):\n",
        "        block = plaintext[i:i+block_size]\n",
        "        for _ in range(rounds):\n",
        "            block = feistel_round(block, key)\n",
        "        ciphertext += block\n",
        "\n",
        "    return ciphertext\n",
        "\n",
        "def main():\n",
        "    plaintext = input(\"Enter the message: \")\n",
        "    key = input(\"Enter the key: \")\n",
        "    rounds = int(input(\"Enter the number of rounds: \"))\n",
        "    encrypted_text = simplified_des_encrypt(plaintext, rounds, key)\n",
        "\n",
        "    print(\"Plaintext:\", plaintext)\n",
        "    print(\"Encrypted Text:\", encrypted_text)\n",
        "\n",
        "if __name__ == \"__main__\":\n",
        "    main()\n"
      ],
      "metadata": {
        "colab": {
          "base_uri": "https://localhost:8080/"
        },
        "id": "Zn0gJ_R5W9GN",
        "outputId": "51f927b9-5f4d-49dd-e7b6-5cce04202542"
      },
      "execution_count": null,
      "outputs": [
        {
          "output_type": "stream",
          "name": "stdout",
          "text": [
            "Enter the message: 101101\n",
            "Enter the key: 1001\n",
            "Enter the number of rounds: 3\n",
            "Plaintext: 101101\n",
            "Encrypted Text: 10110100\n"
          ]
        }
      ]
    },
    {
      "cell_type": "markdown",
      "source": [
        "10) Diffie-Hellman"
      ],
      "metadata": {
        "id": "WrTKR6KNXRU9"
      }
    },
    {
      "cell_type": "code",
      "source": [
        "def generate_prime_and_primitive_root():\n",
        "    # Take user input for the prime number and primitive root\n",
        "    q = int(input(\"Enter a prime number (q): \"))\n",
        "    alpha = int(input(\"Enter a primitive root modulo p (alpha): \"))\n",
        "    return q, alpha\n",
        "\n",
        "def generate_keys(q, alpha, name):\n",
        "    # Take user input for the private key\n",
        "    private_key = int(input(f\"Enter {name}'s private key: \"))\n",
        "    public_key = pow(alpha, private_key, q)   # Public key (g^private_key % p)\n",
        "    return private_key, public_key\n",
        "\n",
        "def compute_shared_secret(received_public_key, private_key, q):\n",
        "    shared_secret = pow(received_public_key, private_key, q)\n",
        "    return shared_secret\n",
        "\n",
        "def diffie_hellman():\n",
        "    q, alpha = generate_prime_and_primitive_root()\n",
        "    print(f\"\\nPrime (alpha): {q}, Primitive Root (alpha): {alpha}\")\n",
        "\n",
        "    # Alice generates her keys\n",
        "    alice_private, alice_public = generate_keys(q, alpha, \"Alice\")\n",
        "    print(f\"Alice's Private Key: {alice_private}, Alice's Public Key: {alice_public}\")\n",
        "\n",
        "    # Bob generates his keys\n",
        "    bob_private, bob_public = generate_keys(q, alpha, \"Bob\")\n",
        "    print(f\"Bob's Private Key: {bob_private}, Bob's Public Key: {bob_public}\")\n",
        "\n",
        "    # Exchange public keys and compute shared secrets\n",
        "    alice_shared_secret = compute_shared_secret(bob_public, alice_private, q)\n",
        "    bob_shared_secret = compute_shared_secret(alice_public, bob_private, q)\n",
        "\n",
        "    print(f\"Alice's Shared Secret: {alice_shared_secret}\")\n",
        "    print(f\"Bob's Shared Secret: {bob_shared_secret}\")\n",
        "\n",
        "    # Verify that both shared secrets are the same\n",
        "    assert alice_shared_secret == bob_shared_secret, \"Shared secrets do not match!\"\n",
        "    print(\"Shared secret established successfully!\")\n",
        "\n",
        "# Run the Diffie-Hellman key exchange simulation\n",
        "diffie_hellman()\n"
      ],
      "metadata": {
        "colab": {
          "base_uri": "https://localhost:8080/"
        },
        "id": "2HsMnaNlW9WE",
        "outputId": "e4cfdb56-a9c6-4a74-a6a2-efa51197012f"
      },
      "execution_count": null,
      "outputs": [
        {
          "output_type": "stream",
          "name": "stdout",
          "text": [
            "Enter a prime number (q): 23\n",
            "Enter a primitive root modulo p (alpha): 5\n",
            "\n",
            "Prime (alpha): 23, Primitive Root (alpha): 5\n",
            "Enter Alice's private key: 6\n",
            "Alice's Private Key: 6, Alice's Public Key: 8\n",
            "Enter Bob's private key: 15\n",
            "Bob's Private Key: 15, Bob's Public Key: 19\n",
            "Alice's Shared Secret: 2\n",
            "Bob's Shared Secret: 2\n",
            "Shared secret established successfully!\n"
          ]
        }
      ]
    }
  ]
}